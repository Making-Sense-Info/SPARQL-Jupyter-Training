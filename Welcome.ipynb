{
 "cells": [
  {
   "cell_type": "markdown",
   "id": "dd1710ce",
   "metadata": {},
   "source": [
    "SPARQL sample"
   ]
  },
  {
   "cell_type": "code",
   "execution_count": null,
   "id": "c7fe29d2",
   "metadata": {
    "vscode": {
     "languageId": "python"
    }
   },
   "outputs": [],
   "source": [
    "import rdflib\n",
    "g = rdflib.Graph()\n",
    "\n",
    "knows_query = \"\"\"\n",
    "PREFIX rdf: <http://www.w3.org/1999/02/22-rdf-syntax-ns#>\n",
    "PREFIX rdfs: <http://www.w3.org/2000/01/rdf-schema#>\n",
    "PREFIX gtfs: <http://vocab.gtfs.org/terms#>\n",
    "\n",
    "SELECT ?name WHERE {\n",
    "    SERVICE <https://lod.opentransportdata.swiss/query> {\n",
    "        ?sub a gtfs:Station ;\n",
    "          \trdfs:label ?name .\n",
    "    }\n",
    "}\n",
    "LIMIT 10\n",
    "\"\"\"\n",
    "\n",
    "qres = g.query(knows_query)\n",
    "for row in qres:\n",
    "    print(row.name)"
   ]
  }
 ],
 "metadata": {
  "kernelspec": {
   "display_name": "Trevas VTL",
   "language": "vtl",
   "name": "trevas"
  },
  "language_info": {
   "file_extension": ".txt",
   "mimetype": "text/plain",
   "name": "Trevas VTL engine"
  }
 },
 "nbformat": 4,
 "nbformat_minor": 5
}
